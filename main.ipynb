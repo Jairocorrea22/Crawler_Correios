{
 "cells": [
  {
   "cell_type": "code",
   "execution_count": 102,
   "metadata": {},
   "outputs": [],
   "source": [
    "#Instalando as biblotecas\n",
    "from selenium import webdriver\n",
    "from selenium.webdriver.common.by import By\n",
    "from time import sleep"
   ]
  },
  {
   "cell_type": "code",
   "execution_count": null,
   "metadata": {},
   "outputs": [],
   "source": [
    "# É preciso baixar o ChomeDriver correspondente à versão que esta instalada no seu computador\n",
    "# Ativando o Google Chrome a partir do caminho do arquivo dentro da maquina\n",
    "driver = webdriver.Chrome('a006\\src\\chromedriver.exe')"
   ]
  },
  {
   "cell_type": "code",
   "execution_count": 105,
   "metadata": {},
   "outputs": [],
   "source": [
    "#Acessando o buscador dos correios\n",
    "driver.get('https://buscacepinter.correios.com.br/app/endereco/index.php?t')"
   ]
  },
  {
   "cell_type": "code",
   "execution_count": 106,
   "metadata": {},
   "outputs": [],
   "source": [
    "#Inserindo o CEP\n",
    "element_cep = driver.find_element(By.NAME, 'endereco')\n",
    "element_cep.send_keys('insira o cep que deseja buscar')\n"
   ]
  },
  {
   "cell_type": "code",
   "execution_count": 107,
   "metadata": {},
   "outputs": [],
   "source": [
    "# Selecionando o tipo de informação que iremos extrair\n",
    "element_cmb = driver.find_element(By.NAME,'tipoCEP')\n",
    "element_cmb = driver.find_element(By.XPATH, '//*[@id=\"tipoCEP\"]/optgroup/option[6]').click()\n"
   ]
  },
  {
   "cell_type": "code",
   "execution_count": 108,
   "metadata": {},
   "outputs": [],
   "source": [
    "#Buscando\n",
    "driver.find_element(By.XPATH, '//*[@id=\"btn_pesquisar\"]').click()\n",
    "\n",
    "# Aguardando 5 segundos antes de rodar os proximos comandos. Parada necessaria.\n",
    "sleep(5)"
   ]
  },
  {
   "cell_type": "code",
   "execution_count": 109,
   "metadata": {},
   "outputs": [],
   "source": [
    "#copiando as informações\n",
    "logradouro = driver.find_element(By.XPATH, '//*[@id=\"resultado-DNEC\"]/tbody/tr/td[1]').text\n",
    "bairro = driver.find_element(By.XPATH,'//*[@id=\"resultado-DNEC\"]/tbody/tr/td[2]').text\n",
    "municipio = driver.find_element(By.XPATH,'//*[@id=\"resultado-DNEC\"]/tbody/tr/td[3]').text\n",
    "cep= driver.find_element(By.XPATH, '//*[@id=\"resultado-DNEC\"]/tbody/tr/td[4]').text\n"
   ]
  },
  {
   "cell_type": "code",
   "execution_count": null,
   "metadata": {},
   "outputs": [],
   "source": [
    "#  Printando as informações\n",
    "print( \n",
    "    '''Para o CEP {} teremos as seguintes informações:\n",
    "    Logradouro : {}\n",
    "    Bairro : {}\n",
    "    Municipio : {}'''.format(cep,logradouro,bairro,municipio)\n",
    ")"
   ]
  },
  {
   "cell_type": "code",
   "execution_count": 111,
   "metadata": {},
   "outputs": [],
   "source": [
    "#fazendo uma nova busca\n",
    "nova_busca= driver.find_element(By.XPATH, '//*[@id=\"btn_nbusca\"]').click()"
   ]
  }
 ],
 "metadata": {
  "kernelspec": {
   "display_name": "Python 3",
   "language": "python",
   "name": "python3"
  },
  "language_info": {
   "codemirror_mode": {
    "name": "ipython",
    "version": 3
   },
   "file_extension": ".py",
   "mimetype": "text/x-python",
   "name": "python",
   "nbconvert_exporter": "python",
   "pygments_lexer": "ipython3",
   "version": "3.10.2"
  },
  "orig_nbformat": 4,
  "vscode": {
   "interpreter": {
    "hash": "58837b1b657ea91009af8409fc244ae3b5ccf93ea980d6fb6b80adc5f697f4cc"
   }
  }
 },
 "nbformat": 4,
 "nbformat_minor": 2
}
